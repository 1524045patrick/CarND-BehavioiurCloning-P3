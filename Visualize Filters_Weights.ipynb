{
 "cells": [
  {
   "cell_type": "code",
   "execution_count": 4,
   "metadata": {},
   "outputs": [
    {
     "name": "stderr",
     "output_type": "stream",
     "text": [
      "Using TensorFlow backend.\n"
     ]
    }
   ],
   "source": [
    "from keras.models import load_model\n",
    "import os\n",
    "%matplotlib inline"
   ]
  },
  {
   "cell_type": "code",
   "execution_count": 5,
   "metadata": {},
   "outputs": [
    {
     "data": {
      "text/plain": [
       "'E:\\\\CarND_Projects'"
      ]
     },
     "execution_count": 5,
     "metadata": {},
     "output_type": "execute_result"
    }
   ],
   "source": [
    "os.getcwd()"
   ]
  },
  {
   "cell_type": "code",
   "execution_count": 6,
   "metadata": {},
   "outputs": [],
   "source": [
    "model = load_model(\"./model.h5\")"
   ]
  },
  {
   "cell_type": "code",
   "execution_count": 7,
   "metadata": {},
   "outputs": [],
   "source": [
    "weights =model.get_weights()"
   ]
  },
  {
   "cell_type": "code",
   "execution_count": 8,
   "metadata": {},
   "outputs": [
    {
     "data": {
      "text/plain": [
       "array([[[[  3.46919596e-02,  -1.47415549e-02,   1.07908109e-02, ...,\n",
       "           -2.03043148e-02,  -4.52875346e-02,   2.59448346e-02],\n",
       "         [  9.17741805e-02,   2.00248905e-03,   1.62616037e-02, ...,\n",
       "           -9.31596756e-02,  -4.78531495e-02,   1.31255779e-02],\n",
       "         [ -1.54687688e-02,   5.33000603e-02,  -6.30646423e-02, ...,\n",
       "            2.67568007e-02,  -4.06881496e-02,   6.40560612e-02]],\n",
       "\n",
       "        [[ -9.52838808e-02,   3.46036963e-02,   8.44790190e-02, ...,\n",
       "            5.21692522e-02,  -5.17736487e-02,  -7.51250461e-02],\n",
       "         [  5.03139151e-03,   3.74021418e-02,   1.58956591e-02, ...,\n",
       "            7.80070052e-02,   2.86344849e-02,  -2.22752132e-02],\n",
       "         [  6.25958443e-02,   7.01085338e-03,   9.53485742e-02, ...,\n",
       "           -6.99057579e-02,   4.52617146e-02,  -4.06485200e-02]],\n",
       "\n",
       "        [[  1.00737689e-02,  -6.24606237e-02,  -5.84534630e-02, ...,\n",
       "           -2.65896190e-02,  -6.38747141e-02,  -3.85789759e-02],\n",
       "         [ -7.41917118e-02,   4.53390479e-02,  -5.36843315e-02, ...,\n",
       "           -9.07901898e-02,  -8.27369913e-02,  -8.16678852e-02],\n",
       "         [  8.32323954e-02,   2.91148536e-02,  -5.41992858e-02, ...,\n",
       "            9.38523747e-03,  -2.45136637e-02,  -8.74507725e-02]],\n",
       "\n",
       "        [[  2.81204302e-02,  -2.02941280e-02,  -6.02162406e-02, ...,\n",
       "           -1.79129317e-02,   2.29379646e-02,   1.55287301e-02],\n",
       "         [  4.57965806e-02,  -5.39415469e-03,  -4.76659611e-02, ...,\n",
       "           -3.51055376e-02,   1.64456442e-02,   5.19223660e-02],\n",
       "         [ -3.16069126e-02,  -8.78912024e-03,   2.24664845e-02, ...,\n",
       "            8.38912278e-02,  -6.90191537e-02,   3.50748785e-02]],\n",
       "\n",
       "        [[ -9.03148949e-03,   2.22226717e-02,  -8.50081071e-02, ...,\n",
       "           -6.47375733e-03,  -7.76987225e-02,  -2.65764538e-02],\n",
       "         [  3.21655325e-03,   6.02164343e-02,  -2.55079586e-02, ...,\n",
       "            3.71208675e-02,   8.25939551e-02,   7.96971992e-02],\n",
       "         [  1.37470243e-02,   6.75561931e-03,   7.62839839e-02, ...,\n",
       "           -2.21414808e-02,  -2.15853546e-02,  -8.58018398e-02]]],\n",
       "\n",
       "\n",
       "       [[[ -2.67543122e-02,  -8.26130435e-02,  -3.79506648e-02, ...,\n",
       "           -8.89709368e-02,   7.52258599e-02,   5.30173406e-02],\n",
       "         [  1.49556743e-02,  -1.01972111e-02,  -3.86111513e-02, ...,\n",
       "           -7.79177397e-02,   8.84066448e-02,  -1.05905943e-02],\n",
       "         [ -7.37713883e-03,   2.68839840e-02,   5.96168675e-02, ...,\n",
       "           -4.00191396e-02,  -4.76701409e-02,   1.82891090e-04]],\n",
       "\n",
       "        [[  2.07837336e-02,   4.37665544e-02,  -3.11577152e-02, ...,\n",
       "           -5.91615699e-02,  -2.42344178e-02,  -4.54327650e-02],\n",
       "         [ -7.45536759e-02,  -4.26341034e-02,   8.20122063e-02, ...,\n",
       "            3.77868414e-02,  -2.98152678e-02,  -5.12420386e-02],\n",
       "         [ -1.74799399e-03,   8.46406072e-02,   8.53101611e-02, ...,\n",
       "           -3.36390287e-02,   6.84933290e-02,  -5.86119518e-02]],\n",
       "\n",
       "        [[ -8.41479525e-02,  -3.83106545e-02,   9.25085843e-02, ...,\n",
       "            1.72135439e-02,   1.84135754e-02,   3.05792857e-02],\n",
       "         [ -6.36988580e-02,   1.87971480e-02,   5.63423224e-02, ...,\n",
       "            9.63817760e-02,   3.78142879e-03,   4.44666520e-02],\n",
       "         [ -7.48618171e-02,   8.41556713e-02,  -4.34744582e-02, ...,\n",
       "           -9.23312753e-02,  -9.23735462e-03,   2.21986463e-03]],\n",
       "\n",
       "        [[ -4.35956717e-02,  -5.69018908e-03,  -7.24059269e-02, ...,\n",
       "           -9.25331488e-02,  -7.28712678e-02,   6.85415342e-02],\n",
       "         [  2.45006774e-02,  -4.31264117e-02,  -8.48204494e-02, ...,\n",
       "            9.85697191e-03,  -1.68533425e-03,  -4.08319104e-03],\n",
       "         [  3.40823121e-02,   6.10223785e-02,  -2.75307950e-02, ...,\n",
       "            3.91562469e-02,  -9.25276503e-02,  -4.42329384e-02]],\n",
       "\n",
       "        [[ -7.74566308e-02,   9.23587382e-03,  -2.98251379e-02, ...,\n",
       "           -2.81948131e-02,  -5.01652323e-02,   6.16118275e-02],\n",
       "         [ -4.08761352e-02,   5.62034408e-03,  -3.73924226e-02, ...,\n",
       "            2.44451445e-02,  -5.33979684e-02,  -8.30576420e-02],\n",
       "         [ -9.28690378e-03,  -1.06608486e-02,  -3.38850766e-02, ...,\n",
       "            8.60733911e-02,  -5.66446297e-02,  -7.27579072e-02]]],\n",
       "\n",
       "\n",
       "       [[[ -5.16634211e-02,  -3.11639495e-02,   5.54385893e-02, ...,\n",
       "           -2.15570666e-02,   4.36205119e-02,   8.71389955e-02],\n",
       "         [ -3.63251450e-03,  -6.60022050e-02,  -3.43177244e-02, ...,\n",
       "            5.99751584e-02,   9.34117958e-02,  -5.91180734e-02],\n",
       "         [ -6.97649419e-02,   2.02355124e-02,   3.62051018e-02, ...,\n",
       "            1.40177449e-02,  -2.44376510e-02,   7.72104412e-02]],\n",
       "\n",
       "        [[  6.03371635e-02,  -7.70731121e-02,   1.11933583e-02, ...,\n",
       "            8.13107640e-02,   5.71491197e-02,  -3.29763293e-02],\n",
       "         [ -7.75987357e-02,  -9.53969061e-02,  -2.07999405e-02, ...,\n",
       "           -5.56709953e-02,   1.92323159e-02,  -3.02734710e-02],\n",
       "         [  6.68279231e-02,  -7.53632262e-02,   6.22052588e-02, ...,\n",
       "           -4.93758731e-02,   2.73336079e-02,   3.62470448e-02]],\n",
       "\n",
       "        [[  5.18190973e-02,  -3.14061530e-02,  -7.04529658e-02, ...,\n",
       "            5.68840019e-02,   4.34828512e-02,   1.03367502e-02],\n",
       "         [ -7.08523765e-02,   4.24332581e-02,   4.49274555e-02, ...,\n",
       "           -7.06823543e-02,   8.97730440e-02,   4.24260125e-02],\n",
       "         [ -7.15412274e-02,   1.68901775e-02,  -1.62674882e-03, ...,\n",
       "           -9.11734253e-02,  -3.13474126e-02,  -3.84682268e-02]],\n",
       "\n",
       "        [[ -4.11831886e-02,   5.74034564e-02,  -4.32994030e-02, ...,\n",
       "            3.32969204e-02,  -9.01971385e-02,   9.14234966e-02],\n",
       "         [  4.18188386e-02,  -1.08209634e-02,   7.44393002e-03, ...,\n",
       "           -1.23197807e-03,  -2.22395035e-03,  -8.65053535e-02],\n",
       "         [ -8.10458660e-02,   5.32459468e-02,   3.16675357e-03, ...,\n",
       "           -8.39325711e-02,  -5.87758720e-02,   3.89474854e-02]],\n",
       "\n",
       "        [[  6.00169413e-02,   8.91107246e-02,  -6.04934618e-02, ...,\n",
       "           -4.07496095e-02,  -1.90718379e-02,  -5.75654116e-03],\n",
       "         [  4.56096902e-02,   5.79827875e-02,  -4.22019437e-02, ...,\n",
       "            7.01120645e-02,   7.03029782e-02,   6.74200885e-04],\n",
       "         [ -1.56506784e-02,  -1.22794714e-02,   7.21895397e-02, ...,\n",
       "            1.19105652e-02,   5.06025478e-02,   6.58779293e-02]]],\n",
       "\n",
       "\n",
       "       [[[ -8.54172558e-02,  -3.43036233e-03,   8.75340179e-02, ...,\n",
       "            4.85168397e-02,  -6.15440833e-04,   4.68959883e-02],\n",
       "         [  6.04287200e-02,  -1.43647511e-02,   6.86952695e-02, ...,\n",
       "           -3.71540636e-02,  -8.66159052e-03,  -1.37390690e-02],\n",
       "         [  6.18999973e-02,  -8.21488630e-03,  -1.34656690e-02, ...,\n",
       "           -8.00988302e-02,  -6.68284371e-02,  -4.68311012e-02]],\n",
       "\n",
       "        [[  5.34879528e-02,   7.25720301e-02,  -8.74267071e-02, ...,\n",
       "           -4.19544764e-02,   6.00390621e-02,   6.86430484e-02],\n",
       "         [ -5.38653620e-02,   6.44377470e-02,  -1.34151364e-02, ...,\n",
       "            4.72070128e-02,   7.10171834e-02,   4.83437926e-02],\n",
       "         [  3.54273915e-02,  -8.00425559e-02,  -3.17608714e-02, ...,\n",
       "           -2.02689692e-03,  -5.80381304e-02,   3.13028097e-02]],\n",
       "\n",
       "        [[ -5.87156340e-02,   3.59930322e-02,   7.62093514e-02, ...,\n",
       "           -7.06132874e-02,   6.98937252e-02,  -7.61946216e-02],\n",
       "         [ -6.40900880e-02,   8.51035714e-02,  -2.65775658e-02, ...,\n",
       "           -4.38563526e-02,  -5.02203926e-02,  -8.71665627e-02],\n",
       "         [ -2.54252981e-02,  -3.01693212e-02,  -6.28233105e-02, ...,\n",
       "            7.10622817e-02,   2.60496535e-03,   5.01150638e-02]],\n",
       "\n",
       "        [[  1.47084557e-02,  -8.68695751e-02,  -4.43409793e-02, ...,\n",
       "            6.58244416e-02,  -3.84754129e-02,   7.16549344e-03],\n",
       "         [  5.91559932e-02,   4.82112728e-02,   2.98974831e-02, ...,\n",
       "            2.75042132e-02,  -7.73431311e-05,  -6.99456260e-02],\n",
       "         [ -2.26640534e-02,  -5.99451773e-02,  -8.87344405e-02, ...,\n",
       "           -4.98188958e-02,  -1.45521658e-02,  -5.55175059e-02]],\n",
       "\n",
       "        [[ -1.61471162e-02,   8.15428719e-02,  -6.35333657e-02, ...,\n",
       "            6.93430752e-02,  -8.44663233e-02,  -7.54305348e-02],\n",
       "         [ -4.58286144e-02,  -8.61281827e-02,   4.92044427e-02, ...,\n",
       "           -4.74361796e-03,  -4.10237163e-02,  -9.02605280e-02],\n",
       "         [ -1.42443040e-02,  -8.37224126e-02,  -6.40165508e-02, ...,\n",
       "           -6.38303459e-02,  -3.83580439e-02,  -8.53113756e-02]]],\n",
       "\n",
       "\n",
       "       [[[ -7.74204955e-02,   7.68986419e-02,   1.75849404e-02, ...,\n",
       "            2.93477308e-02,   6.38719648e-02,   9.82425958e-02],\n",
       "         [ -3.36665995e-02,   7.61706457e-02,  -4.31490280e-02, ...,\n",
       "            4.36554328e-02,   1.68016478e-02,  -1.24300672e-02],\n",
       "         [  2.36088894e-02,   4.28582653e-02,   3.27449478e-02, ...,\n",
       "            4.32946272e-02,   8.84269699e-02,  -2.59944722e-02]],\n",
       "\n",
       "        [[  8.70871544e-03,  -2.16642637e-02,   6.14950806e-02, ...,\n",
       "            1.88183517e-03,  -9.37054157e-02,  -4.76834401e-02],\n",
       "         [  2.74061644e-03,  -5.46698198e-02,  -6.84724376e-02, ...,\n",
       "           -8.29025730e-02,  -3.79094519e-02,  -4.49576564e-02],\n",
       "         [  3.56704220e-02,  -2.16415972e-02,  -5.83580323e-02, ...,\n",
       "           -3.58540937e-02,   3.96687090e-02,  -4.16810066e-02]],\n",
       "\n",
       "        [[  3.85690406e-02,  -7.25986883e-02,   2.86396034e-03, ...,\n",
       "            8.93227234e-02,   7.47449845e-02,   5.08157350e-02],\n",
       "         [  6.11888729e-02,  -1.01903059e-01,   6.05852455e-02, ...,\n",
       "           -4.64054570e-02,   1.16632516e-02,  -4.22158204e-02],\n",
       "         [  3.09510715e-03,  -3.92122865e-02,  -5.47289439e-02, ...,\n",
       "            5.10688089e-02,   5.20040691e-02,   1.67489555e-02]],\n",
       "\n",
       "        [[ -7.07313046e-02,  -5.85685717e-03,  -7.78762773e-02, ...,\n",
       "           -5.53354248e-02,   6.41094381e-03,  -3.48502174e-02],\n",
       "         [  8.08015764e-02,   6.37814626e-02,   7.52505139e-02, ...,\n",
       "           -3.32404636e-02,  -7.50258937e-02,   8.54232758e-02],\n",
       "         [ -4.68152761e-02,  -3.20536084e-02,   3.72311585e-02, ...,\n",
       "            6.90390989e-02,   7.18744323e-02,   3.32728215e-02]],\n",
       "\n",
       "        [[  1.48965670e-02,  -1.04147429e-03,   3.51526439e-02, ...,\n",
       "            7.09329247e-02,   7.82437027e-02,   5.47890663e-02],\n",
       "         [  9.66992900e-02,  -9.62939262e-02,   7.88461417e-02, ...,\n",
       "            2.09753532e-02,  -2.29480080e-02,  -6.41119406e-02],\n",
       "         [  9.68527645e-02,  -4.30628285e-03,  -6.71626255e-02, ...,\n",
       "            3.59315202e-02,  -1.72130745e-02,  -2.22653942e-03]]]], dtype=float32)"
      ]
     },
     "execution_count": 8,
     "metadata": {},
     "output_type": "execute_result"
    }
   ],
   "source": [
    "weights[0]"
   ]
  },
  {
   "cell_type": "code",
   "execution_count": 9,
   "metadata": {},
   "outputs": [],
   "source": [
    "import matplotlib.pyplot as plt\n",
    "import numpy"
   ]
  },
  {
   "cell_type": "code",
   "execution_count": 16,
   "metadata": {},
   "outputs": [
    {
     "name": "stdout",
     "output_type": "stream",
     "text": [
      "(24, 3, 5, 5)\n",
      "(24, 5, 5)\n",
      "(24, 5, 5)\n"
     ]
    },
    {
     "data": {
      "text/plain": [
       "<matplotlib.image.AxesImage at 0x1a382c818d0>"
      ]
     },
     "execution_count": 16,
     "metadata": {},
     "output_type": "execute_result"
    },
    {
     "data": {
      "image/png": "[encoded data removed]",
      "text/plain": [
       "<matplotlib.figure.Figure at 0x1a382af8320>"
      ]
     },
     "metadata": {},
     "output_type": "display_data"
    }
   ],
   "source": [
    "transposed = numpy.transpose(weights[0])\n",
    "print(transposed.shape)\n",
    "transposed = transposed[:,0,:,:]\n",
    "print(transposed.shape)\n",
    "transposed = numpy.transpose(transposed, (0, 2, 1))\n",
    "print(transposed.shape)\n",
    "\n",
    "plt.imshow(transposed[0], cmap='gray')\n",
    "plt.imshow(transposed[1], cmap='gray')"
   ]
  },
  {
   "cell_type": "code",
   "execution_count": 60,
   "metadata": {},
   "outputs": [],
   "source": [
    "weight_images = []\n",
    "\n",
    "weight_images.append(weights[0][:,:,0,0])\n",
    "weight_images.append(weights[0][:,:,0,1])\n",
    "weight_images.append(weights[0][:,:,0,2])\n",
    "weight_images.append(weights[0][:,:,0,3])\n",
    "weight_images.append(weights[0][:,:,0,4])"
   ]
  },
  {
   "cell_type": "code",
   "execution_count": 67,
   "metadata": {},
   "outputs": [
    {
     "ename": "AttributeError",
     "evalue": "'list' object has no attribute 'shape'",
     "output_type": "error",
     "traceback": [
      "\u001b[1;31m---------------------------------------------------------------------------\u001b[0m",
      "\u001b[1;31mAttributeError\u001b[0m                            Traceback (most recent call last)",
      "\u001b[1;32m<ipython-input-67-1bf7cf2858ec>\u001b[0m in \u001b[0;36m<module>\u001b[1;34m()\u001b[0m\n\u001b[1;32m----> 1\u001b[1;33m \u001b[0mprint\u001b[0m\u001b[1;33m(\u001b[0m\u001b[0mweight_images\u001b[0m\u001b[1;33m.\u001b[0m\u001b[0mshape\u001b[0m\u001b[1;33m)\u001b[0m\u001b[1;33m\u001b[0m\u001b[0m\n\u001b[0m",
      "\u001b[1;31mAttributeError\u001b[0m: 'list' object has no attribute 'shape'"
     ]
    }
   ],
   "source": []
  },
  {
   "cell_type": "code",
   "execution_count": 81,
   "metadata": {},
   "outputs": [
    {
     "name": "stdout",
     "output_type": "stream",
     "text": [
      "(5, 5, 3, 24)\n",
      "(24, 5, 3, 5)\n",
      "(24,)\n",
      "(24,)\n"
     ]
    },
    {
     "ename": "IndexError",
     "evalue": "too many indices for array",
     "output_type": "error",
     "traceback": [
      "\u001b[1;31m---------------------------------------------------------------------------\u001b[0m",
      "\u001b[1;31mIndexError\u001b[0m                                Traceback (most recent call last)",
      "\u001b[1;32m<ipython-input-81-36688498edb2>\u001b[0m in \u001b[0;36m<module>\u001b[1;34m()\u001b[0m\n\u001b[0;32m      6\u001b[0m     \u001b[0mprint\u001b[0m\u001b[1;33m(\u001b[0m\u001b[0marray2\u001b[0m\u001b[1;33m.\u001b[0m\u001b[0mshape\u001b[0m\u001b[1;33m)\u001b[0m\u001b[1;33m\u001b[0m\u001b[0m\n\u001b[0;32m      7\u001b[0m     \u001b[0mplt\u001b[0m\u001b[1;33m.\u001b[0m\u001b[0msubplot\u001b[0m\u001b[1;33m(\u001b[0m\u001b[1;36m1\u001b[0m\u001b[1;33m,\u001b[0m \u001b[1;36m2\u001b[0m\u001b[1;33m,\u001b[0m \u001b[0mi\u001b[0m \u001b[1;33m+\u001b[0m \u001b[1;36m1\u001b[0m\u001b[1;33m)\u001b[0m\u001b[1;33m\u001b[0m\u001b[0m\n\u001b[1;32m----> 8\u001b[1;33m     \u001b[0mplt\u001b[0m\u001b[1;33m.\u001b[0m\u001b[0mimshow\u001b[0m\u001b[1;33m(\u001b[0m\u001b[0marray2\u001b[0m\u001b[1;33m[\u001b[0m\u001b[1;33m:\u001b[0m\u001b[1;33m,\u001b[0m\u001b[1;33m:\u001b[0m\u001b[1;33m,\u001b[0m\u001b[1;33m:\u001b[0m\u001b[1;33m,\u001b[0m\u001b[1;36m0\u001b[0m\u001b[1;33m]\u001b[0m\u001b[1;33m)\u001b[0m      \u001b[1;31m# <- I changed this line\u001b[0m\u001b[1;33m\u001b[0m\u001b[0m\n\u001b[0m\u001b[0;32m      9\u001b[0m \u001b[0mplt\u001b[0m\u001b[1;33m.\u001b[0m\u001b[0mshow\u001b[0m\u001b[1;33m(\u001b[0m\u001b[1;33m)\u001b[0m\u001b[1;33m\u001b[0m\u001b[0m\n",
      "\u001b[1;31mIndexError\u001b[0m: too many indices for array"
     ]
    },
    {
     "data": {
      "image/png": "[encoded data removed]",
      "text/plain": [
       "<matplotlib.figure.Figure at 0x1dde58257b8>"
      ]
     },
     "metadata": {},
     "output_type": "display_data"
    }
   ],
   "source": [
    "import numpy\n",
    "for i, el in enumerate(weights):\n",
    "    #moving axis to use plt: i.e [4,100,100] to [100,100,4]\n",
    "    print(weights[i].shape)\n",
    "    array2 = numpy.swapaxes(weights[i], 0, -1)\n",
    "    print(array2.shape)\n",
    "    plt.subplot(1, 2, i + 1)\n",
    "    plt.imshow(array2[:,:,:,0])      # <- I changed this line\n",
    "plt.show()"
   ]
  },
  {
   "cell_type": "code",
   "execution_count": 64,
   "metadata": {},
   "outputs": [
    {
     "data": {
      "text/plain": [
       "<matplotlib.axes._subplots.AxesSubplot at 0x1dde41d17b8>"
      ]
     },
     "execution_count": 64,
     "metadata": {},
     "output_type": "execute_result"
    }
   ],
   "source": []
  },
  {
   "cell_type": "code",
   "execution_count": null,
   "metadata": {},
   "outputs": [],
   "source": []
  }
 ],
 "metadata": {
  "kernelspec": {
   "display_name": "Python 3",
   "language": "python",
   "name": "python3"
  },
  "language_info": {
   "codemirror_mode": {
    "name": "ipython",
    "version": 3
   },
   "file_extension": ".py",
   "mimetype": "text/x-python",
   "name": "python",
   "nbconvert_exporter": "python",
   "pygments_lexer": "ipython3",
   "version": "3.5.0"
  }
 },
 "nbformat": 4,
 "nbformat_minor": 2
}
